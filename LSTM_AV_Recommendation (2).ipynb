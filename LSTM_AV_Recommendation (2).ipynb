{
  "nbformat": 4,
  "nbformat_minor": 0,
  "metadata": {
    "colab": {
      "name": "LSTM AV Recommendation",
      "provenance": []
    },
    "kernelspec": {
      "name": "python3",
      "display_name": "Python 3"
    },
    "accelerator": "GPU"
  },
  "cells": [
    {
      "cell_type": "code",
      "metadata": {
        "id": "t6GgmPBDZGeq",
        "colab_type": "code",
        "colab": {
          "resources": {
            "http://localhost:8080/nbextensions/google.colab/files.js": {
              "data": "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",
              "ok": true,
              "headers": [
                [
                  "content-type",
                  "application/javascript"
                ]
              ],
              "status": 200,
              "status_text": ""
            }
          },
          "base_uri": "https://localhost:8080/",
          "height": 233
        },
        "outputId": "9dee01ec-e3da-4467-c371-b916fb9b7669"
      },
      "source": [
        "from google.colab import files\n",
        "files.upload()\n",
        "!pip install -q kaggle\n",
        "!mkdir -p ~/.kaggle\n",
        "!cp kaggle.json ~/.kaggle/\n",
        "\n",
        "!kaggle datasets download -d hungryfool/av-recommendation-systems\n",
        "!unzip /content/av-recommendation-systems.zip"
      ],
      "execution_count": null,
      "outputs": [
        {
          "output_type": "display_data",
          "data": {
            "text/html": [
              "\n",
              "     <input type=\"file\" id=\"files-fc41215d-9a1e-4b0a-b8e4-83dea74ffad5\" name=\"files[]\" multiple disabled\n",
              "        style=\"border:none\" />\n",
              "     <output id=\"result-fc41215d-9a1e-4b0a-b8e4-83dea74ffad5\">\n",
              "      Upload widget is only available when the cell has been executed in the\n",
              "      current browser session. Please rerun this cell to enable.\n",
              "      </output>\n",
              "      <script src=\"/nbextensions/google.colab/files.js\"></script> "
            ],
            "text/plain": [
              "<IPython.core.display.HTML object>"
            ]
          },
          "metadata": {
            "tags": []
          }
        },
        {
          "output_type": "stream",
          "text": [
            "Saving kaggle.json to kaggle.json\n",
            "Warning: Your Kaggle API key is readable by other users on this system! To fix this, you can run 'chmod 600 /root/.kaggle/kaggle.json'\n",
            "Downloading av-recommendation-systems.zip to /content\n",
            " 57% 5.00M/8.84M [00:00<00:00, 46.6MB/s]\n",
            "100% 8.84M/8.84M [00:00<00:00, 56.7MB/s]\n",
            "Archive:  /content/av-recommendation-systems.zip\n",
            "  inflating: sample_submission_J0OjXLi_DDt3uQN.csv  \n",
            "  inflating: test_HLxMpl7/test.csv   \n",
            "  inflating: train_mddNHeX/challenge_data.csv  \n",
            "  inflating: train_mddNHeX/train.csv  \n"
          ],
          "name": "stdout"
        }
      ]
    },
    {
      "cell_type": "markdown",
      "metadata": {
        "id": "m38ppf8Kb-a2",
        "colab_type": "text"
      },
      "source": [
        "## Imports"
      ]
    },
    {
      "cell_type": "code",
      "metadata": {
        "id": "4-YwsAKhb89y",
        "colab_type": "code",
        "colab": {
          "base_uri": "https://localhost:8080/",
          "height": 125
        },
        "outputId": "67d0c2cd-2df5-4c4a-af32-479ebf0a9125"
      },
      "source": [
        "from keras.preprocessing.text import Tokenizer\n",
        "from keras.preprocessing.sequence import pad_sequences\n",
        "from keras.models import Model\n",
        "from keras.layers import Dense,Embedding,LSTM,Dropout,Bidirectional,Input,BatchNormalization\n",
        "from keras.optimizers import Adam\n",
        "from keras.callbacks import EarlyStopping,ModelCheckpoint\n",
        "\n",
        "import pandas as pd\n",
        "import numpy as np\n",
        "import seaborn as sns\n",
        "import matplotlib.pyplot as plt\n",
        "from sklearn.feature_selection import SelectFromModel\n",
        "import time\n",
        "%matplotlib inline\n",
        "# Classification\n",
        "from sklearn.svm import SVC\n",
        "from sklearn.naive_bayes import GaussianNB\n",
        "from sklearn.neighbors import KNeighborsClassifier\n",
        "from sklearn.linear_model import LogisticRegression\n",
        "from sklearn.tree import DecisionTreeClassifier, ExtraTreeClassifier\n",
        "from sklearn.ensemble import RandomForestClassifier, AdaBoostClassifier, BaggingClassifier, ExtraTreesClassifier, GradientBoostingClassifier\n",
        "\n",
        "from xgboost import XGBRegressor\n",
        "from lightgbm import LGBMRegressor\n",
        "import xgboost as xgb\n",
        "import lightgbm as lgb\n",
        "#import catboost as cat\n",
        "# from catboost import CatBoostRegressor\n",
        "# import sweetviz\n",
        "\n",
        "# Preprocessing\n",
        "from sklearn.metrics import log_loss\n",
        "from sklearn.metrics import accuracy_score\n",
        "from sklearn.preprocessing import LabelEncoder, MinMaxScaler\n",
        "from sklearn.model_selection import train_test_split, cross_val_score\n",
        "\n",
        "from sklearn.model_selection import StratifiedKFold,KFold\n",
        "from sklearn.model_selection import GridSearchCV\n",
        "from sklearn.metrics import f1_score\n",
        "from sklearn.metrics import roc_auc_score\n",
        "from mlxtend.classifier import StackingClassifier\n",
        "from datetime import datetime, timedelta\n",
        "from sklearn.naive_bayes import MultinomialNB\n",
        "\n",
        "from sklearn import preprocessing\n",
        "import joblib\n",
        "from sklearn.preprocessing import LabelEncoder\n",
        "from sklearn.linear_model import SGDClassifier\n",
        "# !pip install pycaret\n",
        "# from pycaret.classification import *from sklearn.model_selection import *\n",
        "from sklearn.metrics import *\n",
        "from sklearn.linear_model import *\n",
        "from wordcloud import WordCloud, STOPWORDS\n",
        "from sklearn.feature_extraction.text import CountVectorizer, TfidfVectorizer\n",
        "from nltk.tokenize import TreebankWordTokenizer\n",
        "import matplotlib.pyplot as plt\n",
        "%matplotlib inline\n",
        "import re\n",
        "\n",
        "\n",
        "import torch\n",
        "import torch.nn as nn\n",
        "import torch.nn.functional as F\n",
        "\n",
        "from torch.utils.data import DataLoader"
      ],
      "execution_count": null,
      "outputs": [
        {
          "output_type": "stream",
          "text": [
            "Using TensorFlow backend.\n",
            "/usr/local/lib/python3.6/dist-packages/statsmodels/tools/_testing.py:19: FutureWarning: pandas.util.testing is deprecated. Use the functions in the public API at pandas.testing instead.\n",
            "  import pandas.util.testing as tm\n",
            "/usr/local/lib/python3.6/dist-packages/sklearn/externals/six.py:31: FutureWarning: The module is deprecated in version 0.21 and will be removed in version 0.23 since we've dropped support for Python 2.7. Please rely on the official version of six (https://pypi.org/project/six/).\n",
            "  \"(https://pypi.org/project/six/).\", FutureWarning)\n"
          ],
          "name": "stderr"
        }
      ]
    },
    {
      "cell_type": "markdown",
      "metadata": {
        "id": "QQMH2DMbcA9S",
        "colab_type": "text"
      },
      "source": [
        "## Data"
      ]
    },
    {
      "cell_type": "code",
      "metadata": {
        "id": "4aDZ8iHKbWre",
        "colab_type": "code",
        "colab": {}
      },
      "source": [
        "test = pd.read_csv('/content/test_HLxMpl7/test.csv')\n",
        "train = pd.read_csv('/content/train_mddNHeX/train.csv')\n",
        "challenges = pd.read_csv('/content/train_mddNHeX/challenge_data.csv')\n",
        "sampsub = pd.read_csv('/content/sample_submission_J0OjXLi_DDt3uQN.csv')"
      ],
      "execution_count": null,
      "outputs": []
    },
    {
      "cell_type": "code",
      "metadata": {
        "id": "yQ5Uy9vtVInC",
        "colab_type": "code",
        "colab": {}
      },
      "source": [
        "label = train[train.challenge_sequence > 10][['user_id','challenge']]\n",
        "label.rename(columns={'challenge':'label'},inplace=True)"
      ],
      "execution_count": null,
      "outputs": []
    },
    {
      "cell_type": "code",
      "metadata": {
        "id": "mczSiRfSVKv0",
        "colab_type": "code",
        "colab": {
          "base_uri": "https://localhost:8080/",
          "height": 347
        },
        "outputId": "3e90d457-13fa-4cd2-9dce-0540671aed64"
      },
      "source": [
        "label.head(10)"
      ],
      "execution_count": null,
      "outputs": [
        {
          "output_type": "execute_result",
          "data": {
            "text/html": [
              "<div>\n",
              "<style scoped>\n",
              "    .dataframe tbody tr th:only-of-type {\n",
              "        vertical-align: middle;\n",
              "    }\n",
              "\n",
              "    .dataframe tbody tr th {\n",
              "        vertical-align: top;\n",
              "    }\n",
              "\n",
              "    .dataframe thead th {\n",
              "        text-align: right;\n",
              "    }\n",
              "</style>\n",
              "<table border=\"1\" class=\"dataframe\">\n",
              "  <thead>\n",
              "    <tr style=\"text-align: right;\">\n",
              "      <th></th>\n",
              "      <th>user_id</th>\n",
              "      <th>label</th>\n",
              "    </tr>\n",
              "  </thead>\n",
              "  <tbody>\n",
              "    <tr>\n",
              "      <th>10</th>\n",
              "      <td>4576</td>\n",
              "      <td>CI24958</td>\n",
              "    </tr>\n",
              "    <tr>\n",
              "      <th>11</th>\n",
              "      <td>4576</td>\n",
              "      <td>CI23667</td>\n",
              "    </tr>\n",
              "    <tr>\n",
              "      <th>12</th>\n",
              "      <td>4576</td>\n",
              "      <td>CI23691</td>\n",
              "    </tr>\n",
              "    <tr>\n",
              "      <th>23</th>\n",
              "      <td>4580</td>\n",
              "      <td>CI24915</td>\n",
              "    </tr>\n",
              "    <tr>\n",
              "      <th>24</th>\n",
              "      <td>4580</td>\n",
              "      <td>CI25727</td>\n",
              "    </tr>\n",
              "    <tr>\n",
              "      <th>25</th>\n",
              "      <td>4580</td>\n",
              "      <td>CI26051</td>\n",
              "    </tr>\n",
              "    <tr>\n",
              "      <th>36</th>\n",
              "      <td>4581</td>\n",
              "      <td>CI26163</td>\n",
              "    </tr>\n",
              "    <tr>\n",
              "      <th>37</th>\n",
              "      <td>4581</td>\n",
              "      <td>CI26166</td>\n",
              "    </tr>\n",
              "    <tr>\n",
              "      <th>38</th>\n",
              "      <td>4581</td>\n",
              "      <td>CI26167</td>\n",
              "    </tr>\n",
              "    <tr>\n",
              "      <th>49</th>\n",
              "      <td>4582</td>\n",
              "      <td>CI25135</td>\n",
              "    </tr>\n",
              "  </tbody>\n",
              "</table>\n",
              "</div>"
            ],
            "text/plain": [
              "    user_id    label\n",
              "10     4576  CI24958\n",
              "11     4576  CI23667\n",
              "12     4576  CI23691\n",
              "23     4580  CI24915\n",
              "24     4580  CI25727\n",
              "25     4580  CI26051\n",
              "36     4581  CI26163\n",
              "37     4581  CI26166\n",
              "38     4581  CI26167\n",
              "49     4582  CI25135"
            ]
          },
          "metadata": {
            "tags": []
          },
          "execution_count": 5
        }
      ]
    },
    {
      "cell_type": "code",
      "metadata": {
        "id": "SVAb8MT3VYui",
        "colab_type": "code",
        "colab": {}
      },
      "source": [
        "df = train[train.challenge_sequence <= 10].groupby('user_id').challenge.aggregate(lambda x: ' '.join(x)).reset_index()"
      ],
      "execution_count": null,
      "outputs": []
    },
    {
      "cell_type": "code",
      "metadata": {
        "id": "_9aMteT8VQ0H",
        "colab_type": "code",
        "colab": {}
      },
      "source": [
        "df = df.merge(label)"
      ],
      "execution_count": null,
      "outputs": []
    },
    {
      "cell_type": "code",
      "metadata": {
        "id": "fxxeIp7LXMMq",
        "colab_type": "code",
        "colab": {
          "base_uri": "https://localhost:8080/",
          "height": 197
        },
        "outputId": "13835b05-cf36-4fd1-d901-46f5dc0091a7"
      },
      "source": [
        "df.head()"
      ],
      "execution_count": null,
      "outputs": [
        {
          "output_type": "execute_result",
          "data": {
            "text/html": [
              "<div>\n",
              "<style scoped>\n",
              "    .dataframe tbody tr th:only-of-type {\n",
              "        vertical-align: middle;\n",
              "    }\n",
              "\n",
              "    .dataframe tbody tr th {\n",
              "        vertical-align: top;\n",
              "    }\n",
              "\n",
              "    .dataframe thead th {\n",
              "        text-align: right;\n",
              "    }\n",
              "</style>\n",
              "<table border=\"1\" class=\"dataframe\">\n",
              "  <thead>\n",
              "    <tr style=\"text-align: right;\">\n",
              "      <th></th>\n",
              "      <th>user_id</th>\n",
              "      <th>challenge</th>\n",
              "      <th>label</th>\n",
              "    </tr>\n",
              "  </thead>\n",
              "  <tbody>\n",
              "    <tr>\n",
              "      <th>0</th>\n",
              "      <td>4576</td>\n",
              "      <td>CI23714 CI23855 CI24917 CI23663 CI23933 CI2513...</td>\n",
              "      <td>CI24958</td>\n",
              "    </tr>\n",
              "    <tr>\n",
              "      <th>1</th>\n",
              "      <td>4576</td>\n",
              "      <td>CI23714 CI23855 CI24917 CI23663 CI23933 CI2513...</td>\n",
              "      <td>CI23667</td>\n",
              "    </tr>\n",
              "    <tr>\n",
              "      <th>2</th>\n",
              "      <td>4576</td>\n",
              "      <td>CI23714 CI23855 CI24917 CI23663 CI23933 CI2513...</td>\n",
              "      <td>CI23691</td>\n",
              "    </tr>\n",
              "    <tr>\n",
              "      <th>3</th>\n",
              "      <td>4580</td>\n",
              "      <td>CI23663 CI23855 CI23933 CI23975 CI24530 CI2371...</td>\n",
              "      <td>CI24915</td>\n",
              "    </tr>\n",
              "    <tr>\n",
              "      <th>4</th>\n",
              "      <td>4580</td>\n",
              "      <td>CI23663 CI23855 CI23933 CI23975 CI24530 CI2371...</td>\n",
              "      <td>CI25727</td>\n",
              "    </tr>\n",
              "  </tbody>\n",
              "</table>\n",
              "</div>"
            ],
            "text/plain": [
              "   user_id                                          challenge    label\n",
              "0     4576  CI23714 CI23855 CI24917 CI23663 CI23933 CI2513...  CI24958\n",
              "1     4576  CI23714 CI23855 CI24917 CI23663 CI23933 CI2513...  CI23667\n",
              "2     4576  CI23714 CI23855 CI24917 CI23663 CI23933 CI2513...  CI23691\n",
              "3     4580  CI23663 CI23855 CI23933 CI23975 CI24530 CI2371...  CI24915\n",
              "4     4580  CI23663 CI23855 CI23933 CI23975 CI24530 CI2371...  CI25727"
            ]
          },
          "metadata": {
            "tags": []
          },
          "execution_count": 8
        }
      ]
    },
    {
      "cell_type": "code",
      "metadata": {
        "id": "yOzmCKXtVatr",
        "colab_type": "code",
        "colab": {}
      },
      "source": [
        "df1 = df.challenge.str.split(expand=True)\n",
        "df1[['user_id','label']] = df[['user_id','label']]"
      ],
      "execution_count": null,
      "outputs": []
    },
    {
      "cell_type": "code",
      "metadata": {
        "id": "mf8nrd9uVifj",
        "colab_type": "code",
        "colab": {
          "base_uri": "https://localhost:8080/",
          "height": 197
        },
        "outputId": "449de4e8-6e81-4382-db36-07dde7f64a71"
      },
      "source": [
        "df=df1\n",
        "df.drop(columns = ['user_id'], inplace = True)\n",
        "df.head()"
      ],
      "execution_count": null,
      "outputs": [
        {
          "output_type": "execute_result",
          "data": {
            "text/html": [
              "<div>\n",
              "<style scoped>\n",
              "    .dataframe tbody tr th:only-of-type {\n",
              "        vertical-align: middle;\n",
              "    }\n",
              "\n",
              "    .dataframe tbody tr th {\n",
              "        vertical-align: top;\n",
              "    }\n",
              "\n",
              "    .dataframe thead th {\n",
              "        text-align: right;\n",
              "    }\n",
              "</style>\n",
              "<table border=\"1\" class=\"dataframe\">\n",
              "  <thead>\n",
              "    <tr style=\"text-align: right;\">\n",
              "      <th></th>\n",
              "      <th>0</th>\n",
              "      <th>1</th>\n",
              "      <th>2</th>\n",
              "      <th>3</th>\n",
              "      <th>4</th>\n",
              "      <th>5</th>\n",
              "      <th>6</th>\n",
              "      <th>7</th>\n",
              "      <th>8</th>\n",
              "      <th>9</th>\n",
              "      <th>label</th>\n",
              "    </tr>\n",
              "  </thead>\n",
              "  <tbody>\n",
              "    <tr>\n",
              "      <th>0</th>\n",
              "      <td>CI23714</td>\n",
              "      <td>CI23855</td>\n",
              "      <td>CI24917</td>\n",
              "      <td>CI23663</td>\n",
              "      <td>CI23933</td>\n",
              "      <td>CI25135</td>\n",
              "      <td>CI23975</td>\n",
              "      <td>CI25126</td>\n",
              "      <td>CI24915</td>\n",
              "      <td>CI24957</td>\n",
              "      <td>CI24958</td>\n",
              "    </tr>\n",
              "    <tr>\n",
              "      <th>1</th>\n",
              "      <td>CI23714</td>\n",
              "      <td>CI23855</td>\n",
              "      <td>CI24917</td>\n",
              "      <td>CI23663</td>\n",
              "      <td>CI23933</td>\n",
              "      <td>CI25135</td>\n",
              "      <td>CI23975</td>\n",
              "      <td>CI25126</td>\n",
              "      <td>CI24915</td>\n",
              "      <td>CI24957</td>\n",
              "      <td>CI23667</td>\n",
              "    </tr>\n",
              "    <tr>\n",
              "      <th>2</th>\n",
              "      <td>CI23714</td>\n",
              "      <td>CI23855</td>\n",
              "      <td>CI24917</td>\n",
              "      <td>CI23663</td>\n",
              "      <td>CI23933</td>\n",
              "      <td>CI25135</td>\n",
              "      <td>CI23975</td>\n",
              "      <td>CI25126</td>\n",
              "      <td>CI24915</td>\n",
              "      <td>CI24957</td>\n",
              "      <td>CI23691</td>\n",
              "    </tr>\n",
              "    <tr>\n",
              "      <th>3</th>\n",
              "      <td>CI23663</td>\n",
              "      <td>CI23855</td>\n",
              "      <td>CI23933</td>\n",
              "      <td>CI23975</td>\n",
              "      <td>CI24530</td>\n",
              "      <td>CI23714</td>\n",
              "      <td>CI23648</td>\n",
              "      <td>CI23781</td>\n",
              "      <td>CI23667</td>\n",
              "      <td>CI25135</td>\n",
              "      <td>CI24915</td>\n",
              "    </tr>\n",
              "    <tr>\n",
              "      <th>4</th>\n",
              "      <td>CI23663</td>\n",
              "      <td>CI23855</td>\n",
              "      <td>CI23933</td>\n",
              "      <td>CI23975</td>\n",
              "      <td>CI24530</td>\n",
              "      <td>CI23714</td>\n",
              "      <td>CI23648</td>\n",
              "      <td>CI23781</td>\n",
              "      <td>CI23667</td>\n",
              "      <td>CI25135</td>\n",
              "      <td>CI25727</td>\n",
              "    </tr>\n",
              "  </tbody>\n",
              "</table>\n",
              "</div>"
            ],
            "text/plain": [
              "         0        1        2        3  ...        7        8        9    label\n",
              "0  CI23714  CI23855  CI24917  CI23663  ...  CI25126  CI24915  CI24957  CI24958\n",
              "1  CI23714  CI23855  CI24917  CI23663  ...  CI25126  CI24915  CI24957  CI23667\n",
              "2  CI23714  CI23855  CI24917  CI23663  ...  CI25126  CI24915  CI24957  CI23691\n",
              "3  CI23663  CI23855  CI23933  CI23975  ...  CI23781  CI23667  CI25135  CI24915\n",
              "4  CI23663  CI23855  CI23933  CI23975  ...  CI23781  CI23667  CI25135  CI25727\n",
              "\n",
              "[5 rows x 11 columns]"
            ]
          },
          "metadata": {
            "tags": []
          },
          "execution_count": 10
        }
      ]
    },
    {
      "cell_type": "code",
      "metadata": {
        "id": "aotoZ-teX-A4",
        "colab_type": "code",
        "colab": {
          "base_uri": "https://localhost:8080/",
          "height": 197
        },
        "outputId": "37290e4d-cf6f-407b-ea58-0fc77118a413"
      },
      "source": [
        "encoder = LabelEncoder()\n",
        "encoder.fit(challenges['challenge_ID'])\n",
        "df= df.apply(encoder.transform)\n",
        "df.head()"
      ],
      "execution_count": null,
      "outputs": [
        {
          "output_type": "execute_result",
          "data": {
            "text/html": [
              "<div>\n",
              "<style scoped>\n",
              "    .dataframe tbody tr th:only-of-type {\n",
              "        vertical-align: middle;\n",
              "    }\n",
              "\n",
              "    .dataframe tbody tr th {\n",
              "        vertical-align: top;\n",
              "    }\n",
              "\n",
              "    .dataframe thead th {\n",
              "        text-align: right;\n",
              "    }\n",
              "</style>\n",
              "<table border=\"1\" class=\"dataframe\">\n",
              "  <thead>\n",
              "    <tr style=\"text-align: right;\">\n",
              "      <th></th>\n",
              "      <th>0</th>\n",
              "      <th>1</th>\n",
              "      <th>2</th>\n",
              "      <th>3</th>\n",
              "      <th>4</th>\n",
              "      <th>5</th>\n",
              "      <th>6</th>\n",
              "      <th>7</th>\n",
              "      <th>8</th>\n",
              "      <th>9</th>\n",
              "      <th>label</th>\n",
              "    </tr>\n",
              "  </thead>\n",
              "  <tbody>\n",
              "    <tr>\n",
              "      <th>0</th>\n",
              "      <td>236</td>\n",
              "      <td>377</td>\n",
              "      <td>1439</td>\n",
              "      <td>185</td>\n",
              "      <td>455</td>\n",
              "      <td>1657</td>\n",
              "      <td>497</td>\n",
              "      <td>1648</td>\n",
              "      <td>1437</td>\n",
              "      <td>1479</td>\n",
              "      <td>1480</td>\n",
              "    </tr>\n",
              "    <tr>\n",
              "      <th>1</th>\n",
              "      <td>236</td>\n",
              "      <td>377</td>\n",
              "      <td>1439</td>\n",
              "      <td>185</td>\n",
              "      <td>455</td>\n",
              "      <td>1657</td>\n",
              "      <td>497</td>\n",
              "      <td>1648</td>\n",
              "      <td>1437</td>\n",
              "      <td>1479</td>\n",
              "      <td>189</td>\n",
              "    </tr>\n",
              "    <tr>\n",
              "      <th>2</th>\n",
              "      <td>236</td>\n",
              "      <td>377</td>\n",
              "      <td>1439</td>\n",
              "      <td>185</td>\n",
              "      <td>455</td>\n",
              "      <td>1657</td>\n",
              "      <td>497</td>\n",
              "      <td>1648</td>\n",
              "      <td>1437</td>\n",
              "      <td>1479</td>\n",
              "      <td>213</td>\n",
              "    </tr>\n",
              "    <tr>\n",
              "      <th>3</th>\n",
              "      <td>185</td>\n",
              "      <td>377</td>\n",
              "      <td>455</td>\n",
              "      <td>497</td>\n",
              "      <td>1052</td>\n",
              "      <td>236</td>\n",
              "      <td>170</td>\n",
              "      <td>303</td>\n",
              "      <td>189</td>\n",
              "      <td>1657</td>\n",
              "      <td>1437</td>\n",
              "    </tr>\n",
              "    <tr>\n",
              "      <th>4</th>\n",
              "      <td>185</td>\n",
              "      <td>377</td>\n",
              "      <td>455</td>\n",
              "      <td>497</td>\n",
              "      <td>1052</td>\n",
              "      <td>236</td>\n",
              "      <td>170</td>\n",
              "      <td>303</td>\n",
              "      <td>189</td>\n",
              "      <td>1657</td>\n",
              "      <td>2249</td>\n",
              "    </tr>\n",
              "  </tbody>\n",
              "</table>\n",
              "</div>"
            ],
            "text/plain": [
              "     0    1     2    3     4     5    6     7     8     9  label\n",
              "0  236  377  1439  185   455  1657  497  1648  1437  1479   1480\n",
              "1  236  377  1439  185   455  1657  497  1648  1437  1479    189\n",
              "2  236  377  1439  185   455  1657  497  1648  1437  1479    213\n",
              "3  185  377   455  497  1052   236  170   303   189  1657   1437\n",
              "4  185  377   455  497  1052   236  170   303   189  1657   2249"
            ]
          },
          "metadata": {
            "tags": []
          },
          "execution_count": 11
        }
      ]
    },
    {
      "cell_type": "code",
      "metadata": {
        "id": "UwwuSmjRZlJc",
        "colab_type": "code",
        "colab": {
          "base_uri": "https://localhost:8080/",
          "height": 34
        },
        "outputId": "2ae72721-f6ec-4fdf-c178-af5c704a40e9"
      },
      "source": [
        "max(df['label'])"
      ],
      "execution_count": null,
      "outputs": [
        {
          "output_type": "execute_result",
          "data": {
            "text/plain": [
              "5605"
            ]
          },
          "metadata": {
            "tags": []
          },
          "execution_count": 12
        }
      ]
    },
    {
      "cell_type": "code",
      "metadata": {
        "id": "6C31UCUP0PBJ",
        "colab_type": "code",
        "colab": {}
      },
      "source": [
        "df_train, df_validation = train_test_split(df.sample(frac=1,random_state=1996), test_size=0.05, random_state=123)"
      ],
      "execution_count": null,
      "outputs": []
    },
    {
      "cell_type": "code",
      "metadata": {
        "id": "qSWmFf4dUZs9",
        "colab_type": "code",
        "colab": {
          "base_uri": "https://localhost:8080/",
          "height": 34
        },
        "outputId": "2e3046c2-9bb9-41a8-c864-a712e3e4ab60"
      },
      "source": [
        "df_train.shape, df_validation.shape"
      ],
      "execution_count": null,
      "outputs": [
        {
          "output_type": "execute_result",
          "data": {
            "text/plain": [
              "((198166, 11), (10430, 11))"
            ]
          },
          "metadata": {
            "tags": []
          },
          "execution_count": 14
        }
      ]
    },
    {
      "cell_type": "code",
      "metadata": {
        "id": "8_vD3tlemHyq",
        "colab_type": "code",
        "colab": {
          "base_uri": "https://localhost:8080/",
          "height": 197
        },
        "outputId": "bba7184a-15f4-4401-ac1b-842ccd64f5e5"
      },
      "source": [
        "df_train.head()"
      ],
      "execution_count": null,
      "outputs": [
        {
          "output_type": "execute_result",
          "data": {
            "text/html": [
              "<div>\n",
              "<style scoped>\n",
              "    .dataframe tbody tr th:only-of-type {\n",
              "        vertical-align: middle;\n",
              "    }\n",
              "\n",
              "    .dataframe tbody tr th {\n",
              "        vertical-align: top;\n",
              "    }\n",
              "\n",
              "    .dataframe thead th {\n",
              "        text-align: right;\n",
              "    }\n",
              "</style>\n",
              "<table border=\"1\" class=\"dataframe\">\n",
              "  <thead>\n",
              "    <tr style=\"text-align: right;\">\n",
              "      <th></th>\n",
              "      <th>0</th>\n",
              "      <th>1</th>\n",
              "      <th>2</th>\n",
              "      <th>3</th>\n",
              "      <th>4</th>\n",
              "      <th>5</th>\n",
              "      <th>6</th>\n",
              "      <th>7</th>\n",
              "      <th>8</th>\n",
              "      <th>9</th>\n",
              "      <th>label</th>\n",
              "    </tr>\n",
              "  </thead>\n",
              "  <tbody>\n",
              "    <tr>\n",
              "      <th>103011</th>\n",
              "      <td>4181</td>\n",
              "      <td>4187</td>\n",
              "      <td>4202</td>\n",
              "      <td>4204</td>\n",
              "      <td>4203</td>\n",
              "      <td>4186</td>\n",
              "      <td>4182</td>\n",
              "      <td>4183</td>\n",
              "      <td>2732</td>\n",
              "      <td>2691</td>\n",
              "      <td>2742</td>\n",
              "    </tr>\n",
              "    <tr>\n",
              "      <th>127290</th>\n",
              "      <td>1875</td>\n",
              "      <td>1918</td>\n",
              "      <td>2120</td>\n",
              "      <td>2118</td>\n",
              "      <td>2124</td>\n",
              "      <td>1381</td>\n",
              "      <td>2122</td>\n",
              "      <td>2121</td>\n",
              "      <td>1194</td>\n",
              "      <td>1802</td>\n",
              "      <td>624</td>\n",
              "    </tr>\n",
              "    <tr>\n",
              "      <th>178438</th>\n",
              "      <td>1452</td>\n",
              "      <td>1460</td>\n",
              "      <td>1464</td>\n",
              "      <td>1454</td>\n",
              "      <td>1451</td>\n",
              "      <td>1449</td>\n",
              "      <td>1575</td>\n",
              "      <td>1456</td>\n",
              "      <td>1448</td>\n",
              "      <td>1702</td>\n",
              "      <td>1699</td>\n",
              "    </tr>\n",
              "    <tr>\n",
              "      <th>184566</th>\n",
              "      <td>497</td>\n",
              "      <td>521</td>\n",
              "      <td>1648</td>\n",
              "      <td>185</td>\n",
              "      <td>1647</td>\n",
              "      <td>1782</td>\n",
              "      <td>4118</td>\n",
              "      <td>4106</td>\n",
              "      <td>1546</td>\n",
              "      <td>438</td>\n",
              "      <td>2572</td>\n",
              "    </tr>\n",
              "    <tr>\n",
              "      <th>207719</th>\n",
              "      <td>1828</td>\n",
              "      <td>2284</td>\n",
              "      <td>2663</td>\n",
              "      <td>1481</td>\n",
              "      <td>2582</td>\n",
              "      <td>1052</td>\n",
              "      <td>455</td>\n",
              "      <td>2563</td>\n",
              "      <td>951</td>\n",
              "      <td>898</td>\n",
              "      <td>2578</td>\n",
              "    </tr>\n",
              "  </tbody>\n",
              "</table>\n",
              "</div>"
            ],
            "text/plain": [
              "           0     1     2     3     4     5     6     7     8     9  label\n",
              "103011  4181  4187  4202  4204  4203  4186  4182  4183  2732  2691   2742\n",
              "127290  1875  1918  2120  2118  2124  1381  2122  2121  1194  1802    624\n",
              "178438  1452  1460  1464  1454  1451  1449  1575  1456  1448  1702   1699\n",
              "184566   497   521  1648   185  1647  1782  4118  4106  1546   438   2572\n",
              "207719  1828  2284  2663  1481  2582  1052   455  2563   951   898   2578"
            ]
          },
          "metadata": {
            "tags": []
          },
          "execution_count": 15
        }
      ]
    },
    {
      "cell_type": "code",
      "metadata": {
        "id": "jNC9e05F0US7",
        "colab_type": "code",
        "colab": {}
      },
      "source": [
        "# encoder = LabelEncoder()\n",
        "# encoder.fit(challenges['challenge_ID'])\n",
        "# df_train['brand_id_encoded'] = encoder.transform(df_train.label)\n",
        "# df_validation['brand_id_encoded'] = encoder.transform(df_validation.label)\n",
        "    "
      ],
      "execution_count": null,
      "outputs": []
    },
    {
      "cell_type": "code",
      "metadata": {
        "id": "GSyrVJQRU4yE",
        "colab_type": "code",
        "colab": {
          "base_uri": "https://localhost:8080/",
          "height": 406
        },
        "outputId": "8c4754b9-21bc-4a78-e66d-6c642360e0aa"
      },
      "source": [
        "challenges"
      ],
      "execution_count": null,
      "outputs": [
        {
          "output_type": "execute_result",
          "data": {
            "text/html": [
              "<div>\n",
              "<style scoped>\n",
              "    .dataframe tbody tr th:only-of-type {\n",
              "        vertical-align: middle;\n",
              "    }\n",
              "\n",
              "    .dataframe tbody tr th {\n",
              "        vertical-align: top;\n",
              "    }\n",
              "\n",
              "    .dataframe thead th {\n",
              "        text-align: right;\n",
              "    }\n",
              "</style>\n",
              "<table border=\"1\" class=\"dataframe\">\n",
              "  <thead>\n",
              "    <tr style=\"text-align: right;\">\n",
              "      <th></th>\n",
              "      <th>challenge_ID</th>\n",
              "      <th>programming_language</th>\n",
              "      <th>challenge_series_ID</th>\n",
              "      <th>total_submissions</th>\n",
              "      <th>publish_date</th>\n",
              "      <th>author_ID</th>\n",
              "      <th>author_gender</th>\n",
              "      <th>author_org_ID</th>\n",
              "      <th>category_id</th>\n",
              "    </tr>\n",
              "  </thead>\n",
              "  <tbody>\n",
              "    <tr>\n",
              "      <th>0</th>\n",
              "      <td>CI23478</td>\n",
              "      <td>2</td>\n",
              "      <td>SI2445</td>\n",
              "      <td>37.0</td>\n",
              "      <td>06-05-2006</td>\n",
              "      <td>AI563576</td>\n",
              "      <td>M</td>\n",
              "      <td>AOI100001</td>\n",
              "      <td>NaN</td>\n",
              "    </tr>\n",
              "    <tr>\n",
              "      <th>1</th>\n",
              "      <td>CI23479</td>\n",
              "      <td>2</td>\n",
              "      <td>SI2435</td>\n",
              "      <td>48.0</td>\n",
              "      <td>17-10-2002</td>\n",
              "      <td>AI563577</td>\n",
              "      <td>M</td>\n",
              "      <td>AOI100002</td>\n",
              "      <td>32.0</td>\n",
              "    </tr>\n",
              "    <tr>\n",
              "      <th>2</th>\n",
              "      <td>CI23480</td>\n",
              "      <td>1</td>\n",
              "      <td>SI2435</td>\n",
              "      <td>15.0</td>\n",
              "      <td>16-10-2002</td>\n",
              "      <td>AI563578</td>\n",
              "      <td>M</td>\n",
              "      <td>AOI100003</td>\n",
              "      <td>NaN</td>\n",
              "    </tr>\n",
              "    <tr>\n",
              "      <th>3</th>\n",
              "      <td>CI23481</td>\n",
              "      <td>1</td>\n",
              "      <td>SI2710</td>\n",
              "      <td>236.0</td>\n",
              "      <td>19-09-2003</td>\n",
              "      <td>AI563579</td>\n",
              "      <td>M</td>\n",
              "      <td>AOI100004</td>\n",
              "      <td>70.0</td>\n",
              "    </tr>\n",
              "    <tr>\n",
              "      <th>4</th>\n",
              "      <td>CI23482</td>\n",
              "      <td>2</td>\n",
              "      <td>SI2440</td>\n",
              "      <td>137.0</td>\n",
              "      <td>21-03-2002</td>\n",
              "      <td>AI563580</td>\n",
              "      <td>M</td>\n",
              "      <td>AOI100005</td>\n",
              "      <td>NaN</td>\n",
              "    </tr>\n",
              "    <tr>\n",
              "      <th>...</th>\n",
              "      <td>...</td>\n",
              "      <td>...</td>\n",
              "      <td>...</td>\n",
              "      <td>...</td>\n",
              "      <td>...</td>\n",
              "      <td>...</td>\n",
              "      <td>...</td>\n",
              "      <td>...</td>\n",
              "      <td>...</td>\n",
              "    </tr>\n",
              "    <tr>\n",
              "      <th>5601</th>\n",
              "      <td>CI29079</td>\n",
              "      <td>1</td>\n",
              "      <td>SI2864</td>\n",
              "      <td>NaN</td>\n",
              "      <td>17-06-2010</td>\n",
              "      <td>AI567059</td>\n",
              "      <td>M</td>\n",
              "      <td>AOI101717</td>\n",
              "      <td>29.0</td>\n",
              "    </tr>\n",
              "    <tr>\n",
              "      <th>5602</th>\n",
              "      <td>CI29080</td>\n",
              "      <td>1</td>\n",
              "      <td>SI2865</td>\n",
              "      <td>NaN</td>\n",
              "      <td>25-06-2010</td>\n",
              "      <td>AI567060</td>\n",
              "      <td>F</td>\n",
              "      <td>AOI101718</td>\n",
              "      <td>29.0</td>\n",
              "    </tr>\n",
              "    <tr>\n",
              "      <th>5603</th>\n",
              "      <td>CI29081</td>\n",
              "      <td>1</td>\n",
              "      <td>SI2865</td>\n",
              "      <td>NaN</td>\n",
              "      <td>25-06-2010</td>\n",
              "      <td>AI566257</td>\n",
              "      <td>M</td>\n",
              "      <td>AOI100108</td>\n",
              "      <td>29.0</td>\n",
              "    </tr>\n",
              "    <tr>\n",
              "      <th>5604</th>\n",
              "      <td>CI29082</td>\n",
              "      <td>1</td>\n",
              "      <td>SI2865</td>\n",
              "      <td>NaN</td>\n",
              "      <td>25-06-2010</td>\n",
              "      <td>AI563777</td>\n",
              "      <td>M</td>\n",
              "      <td>AOI100108</td>\n",
              "      <td>29.0</td>\n",
              "    </tr>\n",
              "    <tr>\n",
              "      <th>5605</th>\n",
              "      <td>CI29083</td>\n",
              "      <td>1</td>\n",
              "      <td>SI2865</td>\n",
              "      <td>NaN</td>\n",
              "      <td>25-06-2010</td>\n",
              "      <td>AI564006</td>\n",
              "      <td>F</td>\n",
              "      <td>AOI100022</td>\n",
              "      <td>29.0</td>\n",
              "    </tr>\n",
              "  </tbody>\n",
              "</table>\n",
              "<p>5606 rows × 9 columns</p>\n",
              "</div>"
            ],
            "text/plain": [
              "     challenge_ID  programming_language  ... author_org_ID  category_id\n",
              "0         CI23478                     2  ...     AOI100001          NaN\n",
              "1         CI23479                     2  ...     AOI100002         32.0\n",
              "2         CI23480                     1  ...     AOI100003          NaN\n",
              "3         CI23481                     1  ...     AOI100004         70.0\n",
              "4         CI23482                     2  ...     AOI100005          NaN\n",
              "...           ...                   ...  ...           ...          ...\n",
              "5601      CI29079                     1  ...     AOI101717         29.0\n",
              "5602      CI29080                     1  ...     AOI101718         29.0\n",
              "5603      CI29081                     1  ...     AOI100108         29.0\n",
              "5604      CI29082                     1  ...     AOI100108         29.0\n",
              "5605      CI29083                     1  ...     AOI100022         29.0\n",
              "\n",
              "[5606 rows x 9 columns]"
            ]
          },
          "metadata": {
            "tags": []
          },
          "execution_count": 17
        }
      ]
    },
    {
      "cell_type": "code",
      "metadata": {
        "id": "I31_zRUM0aD9",
        "colab_type": "code",
        "colab": {}
      },
      "source": [
        "# tokenizer = Tokenizer()\n",
        "# tokenizer.fit_on_texts(df_train['challenge'])"
      ],
      "execution_count": null,
      "outputs": []
    },
    {
      "cell_type": "code",
      "metadata": {
        "id": "g8vf7uFN0o08",
        "colab_type": "code",
        "colab": {}
      },
      "source": [
        "# tokenizer.word_index['ci23975']"
      ],
      "execution_count": null,
      "outputs": []
    },
    {
      "cell_type": "code",
      "metadata": {
        "id": "QjNx2dkI1nOj",
        "colab_type": "code",
        "colab": {}
      },
      "source": [
        "# len(tokenizer.word_index)"
      ],
      "execution_count": null,
      "outputs": []
    },
    {
      "cell_type": "code",
      "metadata": {
        "id": "s2PA3HVW1peP",
        "colab_type": "code",
        "colab": {
          "base_uri": "https://localhost:8080/",
          "height": 34
        },
        "outputId": "c4a25d09-3b29-4b02-93ac-87c4e16d3e9f"
      },
      "source": [
        "challenges.shape[0]"
      ],
      "execution_count": null,
      "outputs": [
        {
          "output_type": "execute_result",
          "data": {
            "text/plain": [
              "5606"
            ]
          },
          "metadata": {
            "tags": []
          },
          "execution_count": 21
        }
      ]
    },
    {
      "cell_type": "code",
      "metadata": {
        "id": "mmVEsqTp1d_Z",
        "colab_type": "code",
        "colab": {}
      },
      "source": [
        "NB_WORDS = challenges.shape[0]\n",
        "MAX_SEQUENCE_LENGTH = 10\n",
        "N_CATEGORIES = challenges.shape[0]"
      ],
      "execution_count": null,
      "outputs": []
    },
    {
      "cell_type": "code",
      "metadata": {
        "id": "Xca6eHeY1wvy",
        "colab_type": "code",
        "colab": {}
      },
      "source": [
        "# sequences_train = tokenizer.texts_to_sequences(df_train['challenge'])\n",
        "# sequences_validation = tokenizer.texts_to_sequences(df_validation['challenge'])"
      ],
      "execution_count": null,
      "outputs": []
    },
    {
      "cell_type": "code",
      "metadata": {
        "id": "M_G0yU-D1zLY",
        "colab_type": "code",
        "colab": {}
      },
      "source": [
        "x_train = df_train.drop('label',axis=1)\n",
        "x_validation = df_validation.drop('label',axis=1)\n",
        "x_train.reset_index(drop=True, inplace=True)\n",
        "x_validation.reset_index(drop=True, inplace=True)"
      ],
      "execution_count": null,
      "outputs": []
    },
    {
      "cell_type": "code",
      "metadata": {
        "id": "C0lmv_zG19cF",
        "colab_type": "code",
        "colab": {
          "base_uri": "https://localhost:8080/",
          "height": 34
        },
        "outputId": "a76dd655-37c5-4073-b729-04c50a3f4877"
      },
      "source": [
        "x_train.shape"
      ],
      "execution_count": null,
      "outputs": [
        {
          "output_type": "execute_result",
          "data": {
            "text/plain": [
              "(198166, 10)"
            ]
          },
          "metadata": {
            "tags": []
          },
          "execution_count": 25
        }
      ]
    },
    {
      "cell_type": "code",
      "metadata": {
        "id": "87Hy4AhN14yF",
        "colab_type": "code",
        "colab": {}
      },
      "source": [
        "y_train = df_train['label'].values\n",
        "y_validation= df_validation['label'].values"
      ],
      "execution_count": null,
      "outputs": []
    },
    {
      "cell_type": "code",
      "metadata": {
        "id": "vrWrUTD7mdEz",
        "colab_type": "code",
        "colab": {
          "base_uri": "https://localhost:8080/",
          "height": 34
        },
        "outputId": "675bcd67-dc6a-4a9c-f949-d67d67763e3a"
      },
      "source": [
        "len(y_train)"
      ],
      "execution_count": null,
      "outputs": [
        {
          "output_type": "execute_result",
          "data": {
            "text/plain": [
              "198166"
            ]
          },
          "metadata": {
            "tags": []
          },
          "execution_count": 27
        }
      ]
    },
    {
      "cell_type": "markdown",
      "metadata": {
        "id": "Qhly4jMVSrkR",
        "colab_type": "text"
      },
      "source": [
        "## KERAS"
      ]
    },
    {
      "cell_type": "code",
      "metadata": {
        "id": "G32WhJcP7jlE",
        "colab_type": "code",
        "colab": {}
      },
      "source": [
        "def get_model(path='',lr=0.001):\n",
        "    adam = Adam(lr=lr)\n",
        "    inp = Input(shape=(MAX_SEQUENCE_LENGTH, ))\n",
        "    x = Embedding(NB_WORDS,256)(inp)\n",
        "    x = BatchNormalization()(x)\n",
        "    x = Bidirectional(LSTM(128, dropout=0.1, recurrent_dropout=0.1))(x)\n",
        "    x = Dropout(0.4)(x)\n",
        "    x = Dense(N_CATEGORIES, activation=\"softmax\")(x)\n",
        "    model = Model(inputs=inp, outputs=x)\n",
        "    if path != '':\n",
        "        model.load_weights(path)\n",
        "    model.compile(loss='sparse_categorical_crossentropy', optimizer=adam, metrics=['accuracy'])\n",
        "    return model"
      ],
      "execution_count": null,
      "outputs": []
    },
    {
      "cell_type": "code",
      "metadata": {
        "id": "Hj4FESky7mZk",
        "colab_type": "code",
        "colab": {}
      },
      "source": [
        "model = get_model()\n",
        "\n",
        "# Model callbacks\n",
        "path = 'best_model_weights'\n",
        "#es_callback = EarlyStopping(monitor=\"val_loss\", patience=5)\n",
        "mc_callback = ModelCheckpoint('{}.hdf5'.format(path), monitor='val_loss', verbose=0, save_best_only=True, save_weights_only=True, mode='auto', period=1)\n",
        "callbacks = [mc_callback] #es_callback,"
      ],
      "execution_count": null,
      "outputs": []
    },
    {
      "cell_type": "code",
      "metadata": {
        "id": "ZCV0Lh7R7xT8",
        "colab_type": "code",
        "colab": {
          "base_uri": "https://localhost:8080/",
          "height": 801
        },
        "outputId": "50d66956-e067-4b9c-b07b-c9006449a955"
      },
      "source": [
        "model.fit(x_train,\n",
        "          y_train,\n",
        "          epochs=20,\n",
        "          batch_size=1024,\n",
        "          validation_data=(x_validation, y_validation),\n",
        "          callbacks = callbacks\n",
        "          )\n",
        "\n",
        "# Load best weights\n",
        "model = get_model('{}.hdf5'.format(path))"
      ],
      "execution_count": null,
      "outputs": [
        {
          "output_type": "stream",
          "text": [
            "/usr/local/lib/python3.6/dist-packages/tensorflow/python/framework/indexed_slices.py:434: UserWarning: Converting sparse IndexedSlices to a dense Tensor of unknown shape. This may consume a large amount of memory.\n",
            "  \"Converting sparse IndexedSlices to a dense Tensor of unknown shape. \"\n"
          ],
          "name": "stderr"
        },
        {
          "output_type": "stream",
          "text": [
            "Train on 198166 samples, validate on 10430 samples\n",
            "Epoch 1/20\n",
            "198166/198166 [==============================] - 20s 101us/step - loss: 3.7465 - accuracy: 0.1433 - val_loss: 4.3943 - val_accuracy: 0.0812\n",
            "Epoch 2/20\n",
            "198166/198166 [==============================] - 19s 96us/step - loss: 3.6749 - accuracy: 0.1504 - val_loss: 4.3979 - val_accuracy: 0.0822\n",
            "Epoch 3/20\n",
            "198166/198166 [==============================] - 19s 95us/step - loss: 3.6202 - accuracy: 0.1541 - val_loss: 4.3989 - val_accuracy: 0.0804\n",
            "Epoch 4/20\n",
            "198166/198166 [==============================] - 19s 96us/step - loss: 3.5753 - accuracy: 0.1565 - val_loss: 4.4121 - val_accuracy: 0.0828\n",
            "Epoch 5/20\n",
            "198166/198166 [==============================] - 19s 96us/step - loss: 3.5395 - accuracy: 0.1592 - val_loss: 4.4213 - val_accuracy: 0.0783\n",
            "Epoch 6/20\n",
            "198166/198166 [==============================] - 19s 95us/step - loss: 3.5043 - accuracy: 0.1613 - val_loss: 4.4287 - val_accuracy: 0.0753\n",
            "Epoch 7/20\n",
            "198166/198166 [==============================] - 19s 95us/step - loss: 3.4742 - accuracy: 0.1647 - val_loss: 4.4485 - val_accuracy: 0.0779\n",
            "Epoch 8/20\n",
            "198166/198166 [==============================] - 19s 96us/step - loss: 3.4406 - accuracy: 0.1681 - val_loss: 4.4609 - val_accuracy: 0.0744\n",
            "Epoch 9/20\n",
            "198166/198166 [==============================] - 19s 95us/step - loss: 3.4162 - accuracy: 0.1707 - val_loss: 4.4714 - val_accuracy: 0.0740\n",
            "Epoch 10/20\n",
            "198166/198166 [==============================] - 19s 95us/step - loss: 3.3939 - accuracy: 0.1722 - val_loss: 4.4796 - val_accuracy: 0.0738\n",
            "Epoch 11/20\n",
            "198166/198166 [==============================] - 19s 95us/step - loss: 3.3738 - accuracy: 0.1723 - val_loss: 4.4899 - val_accuracy: 0.0742\n",
            "Epoch 12/20\n",
            "198166/198166 [==============================] - 19s 95us/step - loss: 3.3550 - accuracy: 0.1754 - val_loss: 4.5064 - val_accuracy: 0.0714\n",
            "Epoch 13/20\n",
            "198166/198166 [==============================] - 19s 94us/step - loss: 3.3329 - accuracy: 0.1776 - val_loss: 4.5149 - val_accuracy: 0.0730\n",
            "Epoch 14/20\n",
            "198166/198166 [==============================] - 19s 95us/step - loss: 3.3172 - accuracy: 0.1784 - val_loss: 4.5294 - val_accuracy: 0.0688\n",
            "Epoch 15/20\n",
            "198166/198166 [==============================] - 19s 95us/step - loss: 3.3050 - accuracy: 0.1797 - val_loss: 4.5364 - val_accuracy: 0.0690\n",
            "Epoch 16/20\n",
            "198166/198166 [==============================] - 19s 95us/step - loss: 3.2874 - accuracy: 0.1805 - val_loss: 4.5510 - val_accuracy: 0.0671\n",
            "Epoch 17/20\n",
            "198166/198166 [==============================] - 19s 96us/step - loss: 3.2762 - accuracy: 0.1814 - val_loss: 4.5616 - val_accuracy: 0.0704\n",
            "Epoch 18/20\n",
            "198166/198166 [==============================] - 19s 94us/step - loss: 3.2561 - accuracy: 0.1835 - val_loss: 4.5722 - val_accuracy: 0.0660\n",
            "Epoch 19/20\n",
            "198166/198166 [==============================] - 19s 95us/step - loss: 3.2438 - accuracy: 0.1856 - val_loss: 4.5892 - val_accuracy: 0.0656\n",
            "Epoch 20/20\n",
            "198166/198166 [==============================] - 19s 95us/step - loss: 3.2313 - accuracy: 0.1856 - val_loss: 4.5985 - val_accuracy: 0.0670\n"
          ],
          "name": "stdout"
        }
      ]
    },
    {
      "cell_type": "code",
      "metadata": {
        "id": "SKodD0wD78zS",
        "colab_type": "code",
        "colab": {}
      },
      "source": [
        "df_test = test[test.challenge_sequence <= 10].groupby('user_id').challenge.aggregate(lambda x: ' '.join(x)).reset_index()\n",
        "df2 = df_test.challenge.str.split(expand=True)\n",
        "df2= df2.apply(encoder.transform)\n",
        "x_test = df2"
      ],
      "execution_count": null,
      "outputs": []
    },
    {
      "cell_type": "code",
      "metadata": {
        "id": "jJrtJ0oYb0RF",
        "colab_type": "code",
        "colab": {
          "base_uri": "https://localhost:8080/",
          "height": 197
        },
        "outputId": "6ebe0a89-8350-4a26-f927-51038667d34e"
      },
      "source": [
        "x_test.head()"
      ],
      "execution_count": null,
      "outputs": [
        {
          "output_type": "execute_result",
          "data": {
            "text/html": [
              "<div>\n",
              "<style scoped>\n",
              "    .dataframe tbody tr th:only-of-type {\n",
              "        vertical-align: middle;\n",
              "    }\n",
              "\n",
              "    .dataframe tbody tr th {\n",
              "        vertical-align: top;\n",
              "    }\n",
              "\n",
              "    .dataframe thead th {\n",
              "        text-align: right;\n",
              "    }\n",
              "</style>\n",
              "<table border=\"1\" class=\"dataframe\">\n",
              "  <thead>\n",
              "    <tr style=\"text-align: right;\">\n",
              "      <th></th>\n",
              "      <th>0</th>\n",
              "      <th>1</th>\n",
              "      <th>2</th>\n",
              "      <th>3</th>\n",
              "      <th>4</th>\n",
              "      <th>5</th>\n",
              "      <th>6</th>\n",
              "      <th>7</th>\n",
              "      <th>8</th>\n",
              "      <th>9</th>\n",
              "    </tr>\n",
              "  </thead>\n",
              "  <tbody>\n",
              "    <tr>\n",
              "      <th>0</th>\n",
              "      <td>377</td>\n",
              "      <td>455</td>\n",
              "      <td>1439</td>\n",
              "      <td>1437</td>\n",
              "      <td>236</td>\n",
              "      <td>185</td>\n",
              "      <td>1480</td>\n",
              "      <td>1657</td>\n",
              "      <td>2249</td>\n",
              "      <td>1052</td>\n",
              "    </tr>\n",
              "    <tr>\n",
              "      <th>1</th>\n",
              "      <td>185</td>\n",
              "      <td>377</td>\n",
              "      <td>1439</td>\n",
              "      <td>455</td>\n",
              "      <td>497</td>\n",
              "      <td>236</td>\n",
              "      <td>1657</td>\n",
              "      <td>1437</td>\n",
              "      <td>1480</td>\n",
              "      <td>303</td>\n",
              "    </tr>\n",
              "    <tr>\n",
              "      <th>2</th>\n",
              "      <td>3461</td>\n",
              "      <td>3462</td>\n",
              "      <td>3463</td>\n",
              "      <td>3464</td>\n",
              "      <td>3465</td>\n",
              "      <td>3466</td>\n",
              "      <td>3467</td>\n",
              "      <td>3469</td>\n",
              "      <td>3470</td>\n",
              "      <td>3476</td>\n",
              "    </tr>\n",
              "    <tr>\n",
              "      <th>3</th>\n",
              "      <td>185</td>\n",
              "      <td>377</td>\n",
              "      <td>497</td>\n",
              "      <td>236</td>\n",
              "      <td>370</td>\n",
              "      <td>455</td>\n",
              "      <td>1657</td>\n",
              "      <td>303</td>\n",
              "      <td>1052</td>\n",
              "      <td>189</td>\n",
              "    </tr>\n",
              "    <tr>\n",
              "      <th>4</th>\n",
              "      <td>377</td>\n",
              "      <td>497</td>\n",
              "      <td>1657</td>\n",
              "      <td>370</td>\n",
              "      <td>236</td>\n",
              "      <td>1439</td>\n",
              "      <td>451</td>\n",
              "      <td>2255</td>\n",
              "      <td>1648</td>\n",
              "      <td>435</td>\n",
              "    </tr>\n",
              "  </tbody>\n",
              "</table>\n",
              "</div>"
            ],
            "text/plain": [
              "      0     1     2     3     4     5     6     7     8     9\n",
              "0   377   455  1439  1437   236   185  1480  1657  2249  1052\n",
              "1   185   377  1439   455   497   236  1657  1437  1480   303\n",
              "2  3461  3462  3463  3464  3465  3466  3467  3469  3470  3476\n",
              "3   185   377   497   236   370   455  1657   303  1052   189\n",
              "4   377   497  1657   370   236  1439   451  2255  1648   435"
            ]
          },
          "metadata": {
            "tags": []
          },
          "execution_count": 127
        }
      ]
    },
    {
      "cell_type": "code",
      "metadata": {
        "id": "Jbima-TQ8AGq",
        "colab_type": "code",
        "colab": {}
      },
      "source": [
        "pred = model.predict(x_test,batch_size=2048)"
      ],
      "execution_count": null,
      "outputs": []
    },
    {
      "cell_type": "code",
      "metadata": {
        "id": "gu9Up5w78x2K",
        "colab_type": "code",
        "colab": {
          "base_uri": "https://localhost:8080/",
          "height": 34
        },
        "outputId": "3a401e39-ec29-4b54-a282-fcab78faeb96"
      },
      "source": [
        "pred.shape"
      ],
      "execution_count": null,
      "outputs": [
        {
          "output_type": "execute_result",
          "data": {
            "text/plain": [
              "(39732, 5606)"
            ]
          },
          "metadata": {
            "tags": []
          },
          "execution_count": 129
        }
      ]
    },
    {
      "cell_type": "code",
      "metadata": {
        "id": "5-W6Nct187fF",
        "colab_type": "code",
        "colab": {}
      },
      "source": [
        "pred = pred.argsort(axis=1)[:,-3:][:,::-1]"
      ],
      "execution_count": null,
      "outputs": []
    },
    {
      "cell_type": "code",
      "metadata": {
        "id": "LYdqxn_69Bh6",
        "colab_type": "code",
        "colab": {
          "base_uri": "https://localhost:8080/",
          "height": 141
        },
        "outputId": "3abe7772-e5e3-4e1f-8477-49a344b45833"
      },
      "source": [
        "pred"
      ],
      "execution_count": null,
      "outputs": [
        {
          "output_type": "execute_result",
          "data": {
            "text/plain": [
              "array([[2574, 2573,  370],\n",
              "       [ 370, 1648,  189],\n",
              "       [3471, 3475, 3477],\n",
              "       ...,\n",
              "       [1480, 1883, 2773],\n",
              "       [1648, 1661, 1665],\n",
              "       [ 370, 1398,  709]])"
            ]
          },
          "metadata": {
            "tags": []
          },
          "execution_count": 131
        }
      ]
    },
    {
      "cell_type": "code",
      "metadata": {
        "id": "X2G5lzV58_Wn",
        "colab_type": "code",
        "colab": {
          "base_uri": "https://localhost:8080/",
          "height": 406
        },
        "outputId": "84d39d53-ad35-4139-b4bf-535b0654c795"
      },
      "source": [
        "df_list = []\n",
        "for i in range(3):\n",
        "    test_11 = df_test[['user_id']]\n",
        "    test_11['user_sequence'] = test_11.user_id.astype(str) + '_'+str(i+11)\n",
        "    test_11['challenge'] = encoder.inverse_transform(pred[:,i])\n",
        "\n",
        "\n",
        "    df_list.append(test_11[['user_sequence','challenge']])\n",
        "    \n",
        "pd.concat(df_list).to_csv('base_submission_4.csv',index=False)\n",
        "pd.concat(df_list)"
      ],
      "execution_count": null,
      "outputs": [
        {
          "output_type": "execute_result",
          "data": {
            "text/html": [
              "<div>\n",
              "<style scoped>\n",
              "    .dataframe tbody tr th:only-of-type {\n",
              "        vertical-align: middle;\n",
              "    }\n",
              "\n",
              "    .dataframe tbody tr th {\n",
              "        vertical-align: top;\n",
              "    }\n",
              "\n",
              "    .dataframe thead th {\n",
              "        text-align: right;\n",
              "    }\n",
              "</style>\n",
              "<table border=\"1\" class=\"dataframe\">\n",
              "  <thead>\n",
              "    <tr style=\"text-align: right;\">\n",
              "      <th></th>\n",
              "      <th>user_sequence</th>\n",
              "      <th>challenge</th>\n",
              "    </tr>\n",
              "  </thead>\n",
              "  <tbody>\n",
              "    <tr>\n",
              "      <th>0</th>\n",
              "      <td>4577_11</td>\n",
              "      <td>CI26052</td>\n",
              "    </tr>\n",
              "    <tr>\n",
              "      <th>1</th>\n",
              "      <td>4578_11</td>\n",
              "      <td>CI23848</td>\n",
              "    </tr>\n",
              "    <tr>\n",
              "      <th>2</th>\n",
              "      <td>4579_11</td>\n",
              "      <td>CI26949</td>\n",
              "    </tr>\n",
              "    <tr>\n",
              "      <th>3</th>\n",
              "      <td>4583_11</td>\n",
              "      <td>CI24527</td>\n",
              "    </tr>\n",
              "    <tr>\n",
              "      <th>4</th>\n",
              "      <td>4584_11</td>\n",
              "      <td>CI23663</td>\n",
              "    </tr>\n",
              "    <tr>\n",
              "      <th>...</th>\n",
              "      <td>...</td>\n",
              "      <td>...</td>\n",
              "    </tr>\n",
              "    <tr>\n",
              "      <th>39727</th>\n",
              "      <td>113829_13</td>\n",
              "      <td>CI24493</td>\n",
              "    </tr>\n",
              "    <tr>\n",
              "      <th>39728</th>\n",
              "      <td>113830_13</td>\n",
              "      <td>CI23688</td>\n",
              "    </tr>\n",
              "    <tr>\n",
              "      <th>39729</th>\n",
              "      <td>113831_13</td>\n",
              "      <td>CI26251</td>\n",
              "    </tr>\n",
              "    <tr>\n",
              "      <th>39730</th>\n",
              "      <td>113834_13</td>\n",
              "      <td>CI25143</td>\n",
              "    </tr>\n",
              "    <tr>\n",
              "      <th>39731</th>\n",
              "      <td>113838_13</td>\n",
              "      <td>CI24187</td>\n",
              "    </tr>\n",
              "  </tbody>\n",
              "</table>\n",
              "<p>119196 rows × 2 columns</p>\n",
              "</div>"
            ],
            "text/plain": [
              "      user_sequence challenge\n",
              "0           4577_11   CI26052\n",
              "1           4578_11   CI23848\n",
              "2           4579_11   CI26949\n",
              "3           4583_11   CI24527\n",
              "4           4584_11   CI23663\n",
              "...             ...       ...\n",
              "39727     113829_13   CI24493\n",
              "39728     113830_13   CI23688\n",
              "39729     113831_13   CI26251\n",
              "39730     113834_13   CI25143\n",
              "39731     113838_13   CI24187\n",
              "\n",
              "[119196 rows x 2 columns]"
            ]
          },
          "metadata": {
            "tags": []
          },
          "execution_count": 133
        }
      ]
    },
    {
      "cell_type": "code",
      "metadata": {
        "id": "Df_admfO9RWA",
        "colab_type": "code",
        "colab": {
          "base_uri": "https://localhost:8080/",
          "height": 406
        },
        "outputId": "9ba07fd7-c41d-4dd7-e32a-202a2745310b"
      },
      "source": [
        "pd.concat(df_list)"
      ],
      "execution_count": null,
      "outputs": [
        {
          "output_type": "execute_result",
          "data": {
            "text/html": [
              "<div>\n",
              "<style scoped>\n",
              "    .dataframe tbody tr th:only-of-type {\n",
              "        vertical-align: middle;\n",
              "    }\n",
              "\n",
              "    .dataframe tbody tr th {\n",
              "        vertical-align: top;\n",
              "    }\n",
              "\n",
              "    .dataframe thead th {\n",
              "        text-align: right;\n",
              "    }\n",
              "</style>\n",
              "<table border=\"1\" class=\"dataframe\">\n",
              "  <thead>\n",
              "    <tr style=\"text-align: right;\">\n",
              "      <th></th>\n",
              "      <th>user_sequence</th>\n",
              "      <th>challenge</th>\n",
              "    </tr>\n",
              "  </thead>\n",
              "  <tbody>\n",
              "    <tr>\n",
              "      <th>0</th>\n",
              "      <td>4577_11</td>\n",
              "      <td>CI26052</td>\n",
              "    </tr>\n",
              "    <tr>\n",
              "      <th>1</th>\n",
              "      <td>4578_11</td>\n",
              "      <td>CI23667</td>\n",
              "    </tr>\n",
              "    <tr>\n",
              "      <th>2</th>\n",
              "      <td>4579_11</td>\n",
              "      <td>CI26955</td>\n",
              "    </tr>\n",
              "    <tr>\n",
              "      <th>3</th>\n",
              "      <td>4583_11</td>\n",
              "      <td>CI24958</td>\n",
              "    </tr>\n",
              "    <tr>\n",
              "      <th>4</th>\n",
              "      <td>4584_11</td>\n",
              "      <td>CI24867</td>\n",
              "    </tr>\n",
              "    <tr>\n",
              "      <th>...</th>\n",
              "      <td>...</td>\n",
              "      <td>...</td>\n",
              "    </tr>\n",
              "    <tr>\n",
              "      <th>39727</th>\n",
              "      <td>113829_13</td>\n",
              "      <td>CI24418</td>\n",
              "    </tr>\n",
              "    <tr>\n",
              "      <th>39728</th>\n",
              "      <td>113830_13</td>\n",
              "      <td>CI24111</td>\n",
              "    </tr>\n",
              "    <tr>\n",
              "      <th>39729</th>\n",
              "      <td>113831_13</td>\n",
              "      <td>CI24931</td>\n",
              "    </tr>\n",
              "    <tr>\n",
              "      <th>39730</th>\n",
              "      <td>113834_13</td>\n",
              "      <td>CI25052</td>\n",
              "    </tr>\n",
              "    <tr>\n",
              "      <th>39731</th>\n",
              "      <td>113838_13</td>\n",
              "      <td>CI24527</td>\n",
              "    </tr>\n",
              "  </tbody>\n",
              "</table>\n",
              "<p>119196 rows × 2 columns</p>\n",
              "</div>"
            ],
            "text/plain": [
              "      user_sequence challenge\n",
              "0           4577_11   CI26052\n",
              "1           4578_11   CI23667\n",
              "2           4579_11   CI26955\n",
              "3           4583_11   CI24958\n",
              "4           4584_11   CI24867\n",
              "...             ...       ...\n",
              "39727     113829_13   CI24418\n",
              "39728     113830_13   CI24111\n",
              "39729     113831_13   CI24931\n",
              "39730     113834_13   CI25052\n",
              "39731     113838_13   CI24527\n",
              "\n",
              "[119196 rows x 2 columns]"
            ]
          },
          "metadata": {
            "tags": []
          },
          "execution_count": 69
        }
      ]
    },
    {
      "cell_type": "markdown",
      "metadata": {
        "id": "aRRVO8CO8uCr",
        "colab_type": "text"
      },
      "source": [
        ""
      ]
    }
  ]
}